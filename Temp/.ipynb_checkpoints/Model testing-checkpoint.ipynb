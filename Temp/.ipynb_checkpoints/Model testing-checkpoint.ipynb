{
 "cells": [
  {
   "cell_type": "code",
   "execution_count": 1,
   "metadata": {},
   "outputs": [],
   "source": [
    "import onnx\n",
    "from onnx import numpy_helper"
   ]
  },
  {
   "cell_type": "code",
   "execution_count": 2,
   "metadata": {},
   "outputs": [],
   "source": [
    "#onnx_model = onnx.load(\"mnist_model.onnx\")\n",
    "onnx_model = onnx.load(\"onnx_conv_model.onnx\")\n",
    "graph = onnx_model.graph"
   ]
  },
  {
   "cell_type": "code",
   "execution_count": 3,
   "metadata": {
    "scrolled": true
   },
   "outputs": [
    {
     "name": "stdout",
     "output_type": "stream",
     "text": [
      "input: \"conv2d_1_input_01\"\n",
      "output: \"adjusted_input\"\n",
      "name: \"Transpose\"\n",
      "op_type: \"Transpose\"\n",
      "attribute {\n",
      "  name: \"perm\"\n",
      "  ints: 0\n",
      "  ints: 3\n",
      "  ints: 1\n",
      "  ints: 2\n",
      "  type: INTS\n",
      "}\n",
      "doc_string: \"\"\n",
      "domain: \"\"\n",
      "\n",
      "input: \"adjusted_input\"\n",
      "input: \"W\"\n",
      "input: \"B\"\n",
      "output: \"convolution_output\"\n",
      "name: \"conv2d_1\"\n",
      "op_type: \"Conv\"\n",
      "attribute {\n",
      "  name: \"auto_pad\"\n",
      "  s: \"VALID\"\n",
      "  type: STRING\n",
      "}\n",
      "attribute {\n",
      "  name: \"dilations\"\n",
      "  ints: 1\n",
      "  ints: 1\n",
      "  type: INTS\n",
      "}\n",
      "attribute {\n",
      "  name: \"group\"\n",
      "  i: 1\n",
      "  type: INT\n",
      "}\n",
      "attribute {\n",
      "  name: \"kernel_shape\"\n",
      "  ints: 3\n",
      "  ints: 3\n",
      "  type: INTS\n",
      "}\n",
      "attribute {\n",
      "  name: \"strides\"\n",
      "  ints: 1\n",
      "  ints: 1\n",
      "  type: INTS\n",
      "}\n",
      "domain: \"\"\n",
      "\n",
      "input: \"convolution_output\"\n",
      "output: \"conv2d_1_Relu_0\"\n",
      "name: \"Relu\"\n",
      "op_type: \"Relu\"\n",
      "doc_string: \"\"\n",
      "domain: \"\"\n",
      "\n",
      "input: \"conv2d_1_Relu_0\"\n",
      "input: \"W1\"\n",
      "input: \"B1\"\n",
      "output: \"convolution_output1\"\n",
      "name: \"conv2d_2\"\n",
      "op_type: \"Conv\"\n",
      "attribute {\n",
      "  name: \"auto_pad\"\n",
      "  s: \"VALID\"\n",
      "  type: STRING\n",
      "}\n",
      "attribute {\n",
      "  name: \"dilations\"\n",
      "  ints: 1\n",
      "  ints: 1\n",
      "  type: INTS\n",
      "}\n",
      "attribute {\n",
      "  name: \"group\"\n",
      "  i: 1\n",
      "  type: INT\n",
      "}\n",
      "attribute {\n",
      "  name: \"kernel_shape\"\n",
      "  ints: 3\n",
      "  ints: 3\n",
      "  type: INTS\n",
      "}\n",
      "attribute {\n",
      "  name: \"strides\"\n",
      "  ints: 1\n",
      "  ints: 1\n",
      "  type: INTS\n",
      "}\n",
      "doc_string: \"\"\n",
      "domain: \"\"\n",
      "\n",
      "input: \"convolution_output1\"\n",
      "output: \"conv2d_2_Relu_0\"\n",
      "name: \"Relu1\"\n",
      "op_type: \"Relu\"\n",
      "doc_string: \"\"\n",
      "domain: \"\"\n",
      "\n",
      "input: \"conv2d_2_Relu_0\"\n",
      "output: \"pooling_output\"\n",
      "name: \"max_pooling2d_1\"\n",
      "op_type: \"MaxPool\"\n",
      "attribute {\n",
      "  name: \"auto_pad\"\n",
      "  s: \"VALID\"\n",
      "  type: STRING\n",
      "}\n",
      "attribute {\n",
      "  name: \"kernel_shape\"\n",
      "  ints: 2\n",
      "  ints: 2\n",
      "  type: INTS\n",
      "}\n",
      "attribute {\n",
      "  name: \"strides\"\n",
      "  ints: 2\n",
      "  ints: 2\n",
      "  type: INTS\n",
      "}\n",
      "doc_string: \"\"\n",
      "domain: \"\"\n",
      "\n",
      "input: \"pooling_output\"\n",
      "output: \"max_pooling2d_1_MaxPool_0\"\n",
      "name: \"Transpose5\"\n",
      "op_type: \"Transpose\"\n",
      "attribute {\n",
      "  name: \"perm\"\n",
      "  ints: 0\n",
      "  ints: 2\n",
      "  ints: 3\n",
      "  ints: 1\n",
      "  type: INTS\n",
      "}\n",
      "domain: \"\"\n",
      "\n",
      "input: \"max_pooling2d_1_MaxPool_0\"\n",
      "output: \"TFNodes_dropout_1_cond_Merge_0\"\n",
      "name: \"Identity2\"\n",
      "op_type: \"Identity\"\n",
      "doc_string: \"\"\n",
      "domain: \"\"\n",
      "\n",
      "input: \"TFNodes_flatten_1_stack_0_0\"\n",
      "output: \"TFNodes_flatten_1_stack_Unsqueeze__29_0\"\n",
      "name: \"TFNodes_flatten_1_stack_Unsqueeze__29\"\n",
      "op_type: \"Unsqueeze\"\n",
      "attribute {\n",
      "  name: \"axes\"\n",
      "  ints: 0\n",
      "  type: INTS\n",
      "}\n",
      "domain: \"\"\n",
      "\n",
      "input: \"TFNodes_dropout_1_cond_Merge_0\"\n",
      "output: \"TFNodes_flatten_1_Shape_0\"\n",
      "name: \"TFNodes_flatten_1_Shape\"\n",
      "op_type: \"Shape\"\n",
      "\n",
      "input: \"TFNodes_flatten_1_Shape_0\"\n",
      "output: \"TFNodes_flatten_1_Shape__27_0\"\n",
      "name: \"TFNodes_flatten_1_Shape__27\"\n",
      "op_type: \"Cast\"\n",
      "attribute {\n",
      "  name: \"to\"\n",
      "  i: 1\n",
      "  type: INT\n",
      "}\n",
      "\n",
      "input: \"TFNodes_flatten_1_Shape__27_0\"\n",
      "output: \"TFNodes_flatten_1_strided_slice_0\"\n",
      "name: \"TFNodes_flatten_1_strided_slice\"\n",
      "op_type: \"Slice\"\n",
      "attribute {\n",
      "  name: \"axes\"\n",
      "  ints: 0\n",
      "  type: INTS\n",
      "}\n",
      "attribute {\n",
      "  name: \"ends\"\n",
      "  ints: 2147483647\n",
      "  type: INTS\n",
      "}\n",
      "attribute {\n",
      "  name: \"starts\"\n",
      "  ints: 1\n",
      "  type: INTS\n",
      "}\n",
      "domain: \"\"\n",
      "\n",
      "input: \"TFNodes_flatten_1_strided_slice_0\"\n",
      "output: \"TFNodes_flatten_1_strided_slice__28_0\"\n",
      "name: \"TFNodes_flatten_1_strided_slice__28\"\n",
      "op_type: \"Cast\"\n",
      "attribute {\n",
      "  name: \"to\"\n",
      "  i: 6\n",
      "  type: INT\n",
      "}\n",
      "\n",
      "input: \"TFNodes_flatten_1_strided_slice__28_0\"\n",
      "output: \"TFNodes_flatten_1_Prod_0\"\n",
      "name: \"TFNodes_flatten_1_Prod\"\n",
      "op_type: \"ReduceProd\"\n",
      "attribute {\n",
      "  name: \"axes\"\n",
      "  ints: 0\n",
      "  type: INTS\n",
      "}\n",
      "attribute {\n",
      "  name: \"keepdims\"\n",
      "  i: 0\n",
      "  type: INT\n",
      "}\n",
      "\n",
      "input: \"TFNodes_flatten_1_Prod_0\"\n",
      "output: \"TFNodes_flatten_1_stack_Unsqueeze__30_0\"\n",
      "name: \"TFNodes_flatten_1_stack_Unsqueeze__30\"\n",
      "op_type: \"Unsqueeze\"\n",
      "attribute {\n",
      "  name: \"axes\"\n",
      "  ints: 0\n",
      "  type: INTS\n",
      "}\n",
      "domain: \"\"\n",
      "\n",
      "input: \"TFNodes_flatten_1_stack_Unsqueeze__29_0\"\n",
      "input: \"TFNodes_flatten_1_stack_Unsqueeze__30_0\"\n",
      "output: \"TFNodes_flatten_1_stack_Concat__31_0\"\n",
      "name: \"TFNodes_flatten_1_stack_Concat__31\"\n",
      "op_type: \"Concat\"\n",
      "attribute {\n",
      "  name: \"axis\"\n",
      "  i: 0\n",
      "  type: INT\n",
      "}\n",
      "domain: \"\"\n",
      "\n",
      "input: \"TFNodes_flatten_1_stack_Concat__31_0\"\n",
      "output: \"TFNodes_flatten_1_Reshape__32_0\"\n",
      "name: \"TFNodes_flatten_1_Reshape__32\"\n",
      "op_type: \"Cast\"\n",
      "attribute {\n",
      "  name: \"to\"\n",
      "  i: 7\n",
      "  type: INT\n",
      "}\n",
      "\n",
      "input: \"TFNodes_dropout_1_cond_Merge_0\"\n",
      "input: \"TFNodes_flatten_1_Reshape__32_0\"\n",
      "output: \"TFNodes_flatten_1_Reshape_0\"\n",
      "name: \"TFNodes_flatten_1_Reshape\"\n",
      "op_type: \"Reshape\"\n",
      "\n",
      "input: \"TFNodes_flatten_1_Reshape_0\"\n",
      "input: \"W2\"\n",
      "output: \"transformed_tensor\"\n",
      "name: \"dense_1\"\n",
      "op_type: \"MatMul\"\n",
      "doc_string: \"\"\n",
      "domain: \"\"\n",
      "\n",
      "input: \"transformed_tensor\"\n",
      "input: \"B2\"\n",
      "output: \"biased_tensor_name\"\n",
      "name: \"Add\"\n",
      "op_type: \"Add\"\n",
      "domain: \"\"\n",
      "\n",
      "input: \"biased_tensor_name\"\n",
      "output: \"dense_1_Relu_0\"\n",
      "name: \"Relu2\"\n",
      "op_type: \"Relu\"\n",
      "domain: \"\"\n",
      "\n",
      "input: \"dense_1_Relu_0\"\n",
      "input: \"W3\"\n",
      "output: \"transformed_tensor1\"\n",
      "name: \"dense_2\"\n",
      "op_type: \"MatMul\"\n",
      "doc_string: \"\"\n",
      "domain: \"\"\n",
      "\n",
      "input: \"transformed_tensor1\"\n",
      "input: \"B3\"\n",
      "output: \"biased_tensor_name1\"\n",
      "name: \"Add1\"\n",
      "op_type: \"Add\"\n",
      "domain: \"\"\n",
      "\n",
      "input: \"biased_tensor_name1\"\n",
      "output: \"dense_2_Softmax_01\"\n",
      "name: \"Softmax\"\n",
      "op_type: \"Softmax\"\n",
      "attribute {\n",
      "  name: \"axis\"\n",
      "  i: -1\n",
      "  type: INT\n",
      "}\n",
      "domain: \"\"\n",
      "\n",
      "input: \"dense_2_Softmax_01\"\n",
      "output: \"dense_2_Softmax_0\"\n",
      "name: \"Identity5\"\n",
      "op_type: \"Identity\"\n",
      "domain: \"\"\n",
      "\n"
     ]
    }
   ],
   "source": [
    "for node in graph.node:\n",
    "    print(node)"
   ]
  },
  {
   "cell_type": "code",
   "execution_count": 5,
   "metadata": {},
   "outputs": [
    {
     "name": "stdout",
     "output_type": "stream",
     "text": [
      "[32, 1, 3, 3]\n",
      "[32]\n",
      "[64, 32, 3, 3]\n",
      "[64]\n",
      "[]\n",
      "[9216, 128]\n",
      "[128]\n",
      "[128, 10]\n",
      "[10]\n"
     ]
    }
   ],
   "source": [
    "weights = graph.initializer\n",
    "for weight in weights:\n",
    "    #print (onnx.numpy_helper.to_array(weight))\n",
    "    print (weight.dims)"
   ]
  },
  {
   "cell_type": "code",
   "execution_count": 16,
   "metadata": {},
   "outputs": [
    {
     "data": {
      "text/plain": [
       "data_type: 6\n",
       "name: \"TFNodes_flatten_1_stack_0_0\"\n",
       "raw_data: \"\\377\\377\\377\\377\""
      ]
     },
     "execution_count": 16,
     "metadata": {},
     "output_type": "execute_result"
    }
   ],
   "source": [
    "weights[4].data_type"
   ]
  },
  {
   "cell_type": "code",
   "execution_count": 17,
   "metadata": {
    "scrolled": true
   },
   "outputs": [
    {
     "name": "stdout",
     "output_type": "stream",
     "text": [
      "-1\n"
     ]
    }
   ],
   "source": [
    "print (onnx.numpy_helper.to_array(weights[4]))"
   ]
  },
  {
   "cell_type": "code",
   "execution_count": 19,
   "metadata": {},
   "outputs": [
    {
     "data": {
      "text/plain": [
       "34848"
      ]
     },
     "execution_count": 19,
     "metadata": {},
     "output_type": "execute_result"
    }
   ],
   "source": [
    "96*3*11*11"
   ]
  },
  {
   "cell_type": "code",
   "execution_count": 14,
   "metadata": {},
   "outputs": [
    {
     "data": {
      "text/plain": [
       "[16, 4, 4, 10]"
      ]
     },
     "execution_count": 14,
     "metadata": {},
     "output_type": "execute_result"
    }
   ],
   "source": [
    "weights[0].dims"
   ]
  },
  {
   "cell_type": "code",
   "execution_count": 15,
   "metadata": {},
   "outputs": [
    {
     "data": {
      "text/plain": [
       "8"
      ]
     },
     "execution_count": 15,
     "metadata": {},
     "output_type": "execute_result"
    }
   ],
   "source": [
    "len(weights)"
   ]
  },
  {
   "cell_type": "code",
   "execution_count": 28,
   "metadata": {},
   "outputs": [
    {
     "ename": "SyntaxError",
     "evalue": "invalid syntax (<ipython-input-28-c2f64a06d7e6>, line 1)",
     "output_type": "error",
     "traceback": [
      "\u001b[0;36m  File \u001b[0;32m\"<ipython-input-28-c2f64a06d7e6>\"\u001b[0;36m, line \u001b[0;32m1\u001b[0m\n\u001b[0;31m    weights::size\u001b[0m\n\u001b[0m            ^\u001b[0m\n\u001b[0;31mSyntaxError\u001b[0m\u001b[0;31m:\u001b[0m invalid syntax\n"
     ]
    }
   ],
   "source": [
    "weights"
   ]
  },
  {
   "cell_type": "code",
   "execution_count": 11,
   "metadata": {},
   "outputs": [
    {
     "name": "stdout",
     "output_type": "stream",
     "text": [
      "[16, 4, 4, 10]\n",
      "[16, 8, 5, 5]\n",
      "[8, 1, 5, 5]\n",
      "[8, 1, 1]\n",
      "[16, 1, 1]\n",
      "[2]\n",
      "[2]\n",
      "[1, 10]\n"
     ]
    }
   ],
   "source": [
    "weights = graph.initializer\n",
    "for weight in weights:\n",
    "    #print (onnx.numpy_helper.to_array(weight))\n",
    "    print (weight.dims)"
   ]
  },
  {
   "cell_type": "code",
   "execution_count": null,
   "metadata": {},
   "outputs": [],
   "source": []
  }
 ],
 "metadata": {
  "kernelspec": {
   "display_name": "Python 3",
   "language": "python",
   "name": "python3"
  },
  "language_info": {
   "codemirror_mode": {
    "name": "ipython",
    "version": 3
   },
   "file_extension": ".py",
   "mimetype": "text/x-python",
   "name": "python",
   "nbconvert_exporter": "python",
   "pygments_lexer": "ipython3",
   "version": "3.7.3"
  }
 },
 "nbformat": 4,
 "nbformat_minor": 2
}
